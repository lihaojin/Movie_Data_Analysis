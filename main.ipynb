{
 "cells": [
  {
   "cell_type": "code",
   "execution_count": null,
   "metadata": {},
   "outputs": [],
   "source": [
    "import pandas as pd\n"
   ]
  },
  {
   "cell_type": "code",
   "execution_count": 1,
   "metadata": {},
   "outputs": [
    {
     "name": "stdout",
     "output_type": "stream",
     "text": [
      "Couldn't Find dataset downloading now\n",
      "b'Downloading the-movies-dataset.zip to /Users/candicezhong/Documents/Github/Movie_Data_Analysis\\n\\n'\n",
      "Opening zip file\n",
      "['ratings.csv', 'ratings_small.csv', 'links.csv', 'links_small.csv', 'keywords.csv', 'movies_metadata.csv', 'credits.csv']\n",
      "Loaded Zip File\n",
      "Attempting extraction\n",
      "Extraction Completed\n"
     ]
    }
   ],
   "source": [
    "imUsingColab = False\n",
    "shouldDownload = True # Set this to False after the first run to avoid redownloading the dataset\n",
    "if shouldDownload:\n",
    "  if imUsingColab:\n",
    "    # Generate the .env file within the colab environment programatically\n",
    "    file = open('.env','w') \n",
    "    file.write('KAGGLE_USERNAME=philli') # Populate this with your KAGGLE_USERNAME DO NOT COMMIT!!\n",
    "    file.write('\\nKAGGLE_KEY=e8ea661b0f70ffb758fc2da6a77b8b51') # Populate this with your KAGGLE api Key DO NOT COMMIT!!\n",
    "    file.close()\n",
    "    # Fetch the downloadData dependency \n",
    "    import urllib.request\n",
    "    urllib.request.urlretrieve (\"https://raw.githubusercontent.com/lihaojin/Movie_Data_Analysis/master/downloadData.py\", \"downloadData.py\")\n",
    "\n",
    "  import downloadData\n",
    "  downloadData.download(imUsingColab)\n"
   ]
  },
  {
   "cell_type": "code",
   "execution_count": null,
   "metadata": {},
   "outputs": [],
   "source": []
  }
 ],
 "metadata": {
  "kernelspec": {
   "display_name": "Python 3",
   "language": "python",
   "name": "python3"
  },
  "language_info": {
   "codemirror_mode": {
    "name": "ipython",
    "version": 3
   },
   "file_extension": ".py",
   "mimetype": "text/x-python",
   "name": "python",
   "nbconvert_exporter": "python",
   "pygments_lexer": "ipython3",
   "version": "3.7.2"
  }
 },
 "nbformat": 4,
 "nbformat_minor": 2
}
