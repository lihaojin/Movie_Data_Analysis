{
 "cells": [
  {
   "cell_type": "code",
   "execution_count": 1,
   "metadata": {},
   "outputs": [],
   "source": [
    "import pandas as pd\n"
   ]
  },
  {
   "cell_type": "code",
   "execution_count": 2,
   "metadata": {},
   "outputs": [
    {
     "name": "stdout",
     "output_type": "stream",
     "text": [
      "Couldn't Find dataset downloading now\n",
      "b'Downloading the-movies-dataset.zip to /Users/Andy/Desktop/Movie_Data_Analysis\\n\\n'\n",
      "Opening zip file\n",
      "['ratings.csv', 'ratings_small.csv', 'links.csv', 'links_small.csv', 'keywords.csv', 'movies_metadata.csv', 'credits.csv']\n",
      "Loaded Zip File\n",
      "Attempting extraction\n",
      "Extraction Completed\n"
     ]
    }
   ],
   "source": [
    "imUsingColab = False\n",
    "shouldDownload = False # Set this to False after the first run to avoid redownloading the dataset\n",
    "if shouldDownload:\n",
    "    import downloadData\n",
    "    downloadData.download(imUsingColab)\n"
   ]
  },
  {
   "cell_type": "code",
   "execution_count": null,
   "metadata": {},
   "outputs": [],
   "source": []
  }
 ],
 "metadata": {
  "kernelspec": {
   "display_name": "Python 3",
   "language": "python",
   "name": "python3"
  },
  "language_info": {
   "codemirror_mode": {
    "name": "ipython",
    "version": 3
   },
   "file_extension": ".py",
   "mimetype": "text/x-python",
   "name": "python",
   "nbconvert_exporter": "python",
   "pygments_lexer": "ipython3",
   "version": "3.7.1"
  }
 },
 "nbformat": 4,
 "nbformat_minor": 2
}
