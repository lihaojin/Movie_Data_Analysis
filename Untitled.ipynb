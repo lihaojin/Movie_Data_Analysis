{
 "cells": [
  {
   "cell_type": "code",
   "execution_count": 1,
   "metadata": {},
   "outputs": [],
   "source": [
    "%run datasets.py"
   ]
  },
  {
   "cell_type": "code",
   "execution_count": 9,
   "metadata": {},
   "outputs": [],
   "source": [
    "df = getMetadata()"
   ]
  },
  {
   "cell_type": "code",
   "execution_count": 11,
   "metadata": {},
   "outputs": [],
   "source": [
    "#Make genres column\n",
    "\n",
    "df['movie_genres'] = df['movie_genres'].astype(str)\n",
    "\n",
    "movie_genres = []\n",
    "def getGenres(genres):\n",
    "    new_genres = \"\"\n",
    "    for genre in ast.literal_eval(genres):\n",
    "        new_genres += genre\n",
    "        new_genres += '|'\n",
    "        \n",
    "    movie_genres.append(new_genres)\n",
    "\n",
    "df['movie_genres'].apply(getGenres)\n",
    "movie_genres = [x[:-1] for x in movie_genres]"
   ]
  },
  {
   "cell_type": "code",
   "execution_count": 12,
   "metadata": {},
   "outputs": [],
   "source": [
    "df = df.assign(genres = movie_genres)"
   ]
  },
  {
   "cell_type": "code",
   "execution_count": 13,
   "metadata": {},
   "outputs": [],
   "source": [
    "df = df.drop(columns = ['movie_genres'])"
   ]
  }
 ],
 "metadata": {
  "kernelspec": {
   "display_name": "Python 3",
   "language": "python",
   "name": "python3"
  },
  "language_info": {
   "codemirror_mode": {
    "name": "ipython",
    "version": 3
   },
   "file_extension": ".py",
   "mimetype": "text/x-python",
   "name": "python",
   "nbconvert_exporter": "python",
   "pygments_lexer": "ipython3",
   "version": "3.7.2"
  }
 },
 "nbformat": 4,
 "nbformat_minor": 2
}
